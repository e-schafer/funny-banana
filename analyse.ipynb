{
 "cells": [
  {
   "attachments": {},
   "cell_type": "markdown",
   "metadata": {},
   "source": [
    "Function used to extract data from xml. \n",
    "\n",
    "xml.etre package is by default shipped with python."
   ]
  },
  {
   "cell_type": "code",
   "execution_count": null,
   "metadata": {},
   "outputs": [],
   "source": [
    "from pprint import pprint as pp\n",
    "import xml.etree.ElementTree as ET\n",
    "\n",
    "# Parse the XML file\n",
    "\n",
    "\n",
    "def parse_my_file(path:str) -> dict : \n",
    "    #Define a function to extract text from XML elements\n",
    "    def get_text(elem):\n",
    "        return elem.text.strip() if elem is not None else None\n",
    "    \n",
    "    tree = ET.parse(path)\n",
    "    root = tree.getroot()\n",
    "\n",
    "    # Define a dictionary to hold the data\n",
    "    data = {}\n",
    "\n",
    "    # Extract the data from the XML and store it in the dictionary\n",
    "    data['PublicationNumber'] = get_text(root.find('PublicationNumber'))\n",
    "    data['Title'] = get_text(root.find('Title'))\n",
    "    data['SubDatabase'] = get_text(root.find('SubDatabase'))\n",
    "    data['Inventor'] = [get_text(elem) for elem in root.findall('.//Inventor/Name')]\n",
    "    data['Applicant'] = [get_text(elem) for elem in root.findall('.//Applicant/Name')]\n",
    "    data['RequestedPatent'] = get_text(root.find('RequestedPatent'))\n",
    "    data['ApplicationNumber'] = get_text(root.find('.//ApplicationElem/Number'))\n",
    "    data['ApplicationDate'] = get_text(root.find('ApplicationDate'))\n",
    "    data['PriorityNumber'] = [get_text(elem) for elem in root.findall('.//PriorityNumber')]\n",
    "    data['PriorityDate'] = [get_text(elem) for elem in root.findall('.//PriorityDate')]\n",
    "    data['IPC'] = [get_text(elem) for elem in root.findall('.//IPC/Class')]\n",
    "    data['NCL'] = [get_text(elem) for elem in root.findall('.//NCL/Class')]\n",
    "    data['Abstract'] = get_text(root.find('Abstract'))\n",
    "    data['Claims'] = [get_text(elem) for elem in root.findall('.//Claims/P')]\n",
    "    return data\n",
    "\n"
   ]
  },
  {
   "attachments": {},
   "cell_type": "markdown",
   "metadata": {},
   "source": [
    "This function use the elasticSearch package to send the data to the ELK server\n",
    "\n",
    "You don't need to reformat the data as ES use json and a python dict is a json object."
   ]
  },
  {
   "cell_type": "code",
   "execution_count": null,
   "metadata": {},
   "outputs": [],
   "source": [
    "es_endpoint = \"https://MYDEPLOYMENT:9243\"\n",
    "basics=('USER','PASSWORD')\n",
    "\n",
    "from datetime import datetime\n",
    "from elasticsearch import Elasticsearch\n",
    "\n",
    "def upload_document_to_es(data:dict) -> None:\n",
    "    es = Elasticsearch(es_endpoint, basic_auth=basics)\n",
    "\n",
    "    resp  = es.index(index=\"patents\", id=data['PublicationNumber'], document=data)\n",
    "    print(resp['result'])\n",
    "\n",
    "    resp = es.get(index=\"patents\", id=data['PublicationNumber'])\n",
    "    print(resp['_source'])\n",
    "\n",
    "    es.indices.refresh(index=\"patents\")\n",
    "\n",
    "    resp = es.search(index=\"patents\", query={\"match_all\": {}})\n",
    "    pp(resp)\n"
   ]
  },
  {
   "attachments": {},
   "cell_type": "markdown",
   "metadata": {},
   "source": [
    "This piece of code was used to parse all the file and send them to the ELK server."
   ]
  },
  {
   "cell_type": "code",
   "execution_count": null,
   "metadata": {},
   "outputs": [],
   "source": [
    "# from glob import glob\n",
    "\n",
    "# for file in  glob('resources/*.xml'):\n",
    "#     data = parse_my_file(file)\n",
    "#     upload_document_to_es(data)"
   ]
  },
  {
   "attachments": {},
   "cell_type": "markdown",
   "metadata": {},
   "source": [
    "An example for retrieving data from the database"
   ]
  },
  {
   "cell_type": "code",
   "execution_count": null,
   "metadata": {},
   "outputs": [],
   "source": [
    "es_endpoint = \"https://MYDEPLOYMENT:9243\"\n",
    "basics=('USER','PASSWORD')\n",
    "\n",
    "from elasticsearch import Elasticsearch\n",
    "\n",
    "es = Elasticsearch(es_endpoint, basic_auth=basics)\n",
    "resp = es.search(\n",
    "    index=\"patents\",\n",
    "    query={\"match_phrase\": {\"Inventor\": \"\"\"[GB]\"\"\"}},\n",
    "    fields=[\"PublicationNumber\", \"Title\", \"Inventor\"],\n",
    "    source=False)\n",
    "pp(resp.body)"
   ]
  }
 ],
 "metadata": {
  "kernelspec": {
   "display_name": ".venv",
   "language": "python",
   "name": "python3"
  },
  "language_info": {
   "codemirror_mode": {
    "name": "ipython",
    "version": 3
   },
   "file_extension": ".py",
   "mimetype": "text/x-python",
   "name": "python",
   "nbconvert_exporter": "python",
   "pygments_lexer": "ipython3",
   "version": "3.11.2"
  },
  "orig_nbformat": 4,
  "vscode": {
   "interpreter": {
    "hash": "35c0083b561bf99fd1b9934e87471dce7592b4aaecddce8f08ac59dfc4b204b2"
   }
  }
 },
 "nbformat": 4,
 "nbformat_minor": 2
}
